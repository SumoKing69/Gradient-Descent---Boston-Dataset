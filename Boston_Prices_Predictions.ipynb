{
 "cells": [
  {
   "cell_type": "markdown",
   "metadata": {},
   "source": [
    "# Boston Houses Price Estimation using Gradient Descent"
   ]
  },
  {
   "cell_type": "markdown",
   "metadata": {},
   "source": [
    "**The Boston Housing dataset is a datset derived from the information collected by the U.S. Census Service concerning housing in the area of Boston Mass.**"
   ]
  },
  {
   "cell_type": "markdown",
   "metadata": {},
   "source": [
    "# Importing Libraries"
   ]
  },
  {
   "cell_type": "code",
   "execution_count": 76,
   "metadata": {},
   "outputs": [],
   "source": [
    "import numpy as np                  # Used for the mathematical coding\n",
    "import pandas as pd                 # USed to load the data from csv form\n",
    "import matplotlib.pyplot as plt     # Used for visualization"
   ]
  },
  {
   "cell_type": "markdown",
   "metadata": {},
   "source": [
    "# Loading the dataset and Understanding each feature"
   ]
  },
  {
   "cell_type": "code",
   "execution_count": 77,
   "metadata": {},
   "outputs": [
    {
     "name": "stdout",
     "output_type": "stream",
     "text": [
      "<class 'pandas.core.frame.DataFrame'>\n",
      "RangeIndex: 379 entries, 0 to 378\n",
      "Data columns (total 14 columns):\n",
      " #   Column    Non-Null Count  Dtype  \n",
      "---  ------    --------------  -----  \n",
      " 0   # CRIM    379 non-null    float64\n",
      " 1    ZN       379 non-null    float64\n",
      " 2    INDUS    379 non-null    float64\n",
      " 3    CHAS     379 non-null    float64\n",
      " 4    NOX      379 non-null    float64\n",
      " 5    RM       379 non-null    float64\n",
      " 6    AGE      379 non-null    float64\n",
      " 7    DIS      379 non-null    float64\n",
      " 8    RAD      379 non-null    float64\n",
      " 9    TAX      379 non-null    float64\n",
      " 10   PTRATIO  379 non-null    float64\n",
      " 11   B        379 non-null    float64\n",
      " 12   LSTAT    379 non-null    float64\n",
      " 13   Y        379 non-null    float64\n",
      "dtypes: float64(14)\n",
      "memory usage: 41.6 KB\n"
     ]
    }
   ],
   "source": [
    "# https://raw.githubusercontent.com/SumoKing69/Gradient-Descent---Boston-Dataset/main/Train_dataset.csv - for uploading \n",
    "# the dataset from github.\n",
    "\n",
    "data = pd.read_csv(r\"C:\\Users\\96895\\Desktop\\Python AI\\Gradient Descent Project\\BostonDataSet\\Train_dataset.csv\" , delimiter = ',')\n",
    "data.info()"
   ]
  },
  {
   "cell_type": "markdown",
   "metadata": {},
   "source": [
    "**As there aren't any null values in any of the columns, we don't need to perform any data cleaning actions.**"
   ]
  },
  {
   "cell_type": "markdown",
   "metadata": {},
   "source": [
    "**In the dataset, there are 14 columns and 379 entries i.e we have 13 features and 379 houses in boston , to which we need to predict the future prices. (13 features because 'Y' is the target / Price column.)**"
   ]
  },
  {
   "cell_type": "markdown",
   "metadata": {},
   "source": [
    "Short Information on each column:\n",
    "1) **CRIM** : per capita crime rate by town. \n",
    "\n",
    "2) **ZN** : proportion of residential land zoned for lots over 25,000 sq.ft.\n",
    "\n",
    "3) **INDUS** : proportion of non-retail business acres per town.\n",
    "\n",
    "4) **CHAS** : Charles River dummy variable (= 1 if tract bounds river; 0 otherwise).\n",
    "\n",
    "5) **NOX** : nitric oxides concentration (parts per 10 million).\n",
    "\n",
    "6) **RM** : average number of rooms per dwelling.\n",
    "\n",
    "7) **AGE** : proportion of owner-occupied units built prior to 1940.\n",
    "\n",
    "8) **DIS** : weighted distances to five Boston employment centres.\n",
    "\n",
    "9) **RAD** : index of accessibility to radial highways.\n",
    "\n",
    "10) **TAX** : full-value property-tax rate per $10,000.\n",
    "\n",
    "11) **PTRATIO** : pupil-teacher ratio by town.\n",
    "\n",
    "12) **B** : 1000(Bk - 0.63)^2 where Bk is the proportion of blacks (people of African American descent) by town.\n",
    "\n",
    "13) **LSTAT** : % lower status of the population"
   ]
  },
  {
   "cell_type": "code",
   "execution_count": 78,
   "metadata": {},
   "outputs": [
    {
     "data": {
      "text/html": [
       "<div>\n",
       "<style scoped>\n",
       "    .dataframe tbody tr th:only-of-type {\n",
       "        vertical-align: middle;\n",
       "    }\n",
       "\n",
       "    .dataframe tbody tr th {\n",
       "        vertical-align: top;\n",
       "    }\n",
       "\n",
       "    .dataframe thead th {\n",
       "        text-align: right;\n",
       "    }\n",
       "</style>\n",
       "<table border=\"1\" class=\"dataframe\">\n",
       "  <thead>\n",
       "    <tr style=\"text-align: right;\">\n",
       "      <th></th>\n",
       "      <th># CRIM</th>\n",
       "      <th>ZN</th>\n",
       "      <th>INDUS</th>\n",
       "      <th>CHAS</th>\n",
       "      <th>NOX</th>\n",
       "      <th>RM</th>\n",
       "      <th>AGE</th>\n",
       "      <th>DIS</th>\n",
       "      <th>RAD</th>\n",
       "      <th>TAX</th>\n",
       "      <th>PTRATIO</th>\n",
       "      <th>B</th>\n",
       "      <th>LSTAT</th>\n",
       "      <th>Y</th>\n",
       "    </tr>\n",
       "  </thead>\n",
       "  <tbody>\n",
       "    <tr>\n",
       "      <th>count</th>\n",
       "      <td>379.000000</td>\n",
       "      <td>379.000000</td>\n",
       "      <td>379.000000</td>\n",
       "      <td>379.000000</td>\n",
       "      <td>379.000000</td>\n",
       "      <td>379.000000</td>\n",
       "      <td>379.000000</td>\n",
       "      <td>379.000000</td>\n",
       "      <td>379.000000</td>\n",
       "      <td>379.000000</td>\n",
       "      <td>379.000000</td>\n",
       "      <td>379.000000</td>\n",
       "      <td>379.000000</td>\n",
       "      <td>379.000000</td>\n",
       "    </tr>\n",
       "    <tr>\n",
       "      <th>mean</th>\n",
       "      <td>0.019628</td>\n",
       "      <td>0.002455</td>\n",
       "      <td>0.036170</td>\n",
       "      <td>0.028955</td>\n",
       "      <td>0.028775</td>\n",
       "      <td>0.032202</td>\n",
       "      <td>0.038395</td>\n",
       "      <td>-0.001288</td>\n",
       "      <td>0.043307</td>\n",
       "      <td>0.043786</td>\n",
       "      <td>0.019218</td>\n",
       "      <td>-0.015785</td>\n",
       "      <td>0.018418</td>\n",
       "      <td>22.609499</td>\n",
       "    </tr>\n",
       "    <tr>\n",
       "      <th>std</th>\n",
       "      <td>1.067490</td>\n",
       "      <td>1.000813</td>\n",
       "      <td>1.017497</td>\n",
       "      <td>1.048995</td>\n",
       "      <td>0.999656</td>\n",
       "      <td>1.001174</td>\n",
       "      <td>0.985209</td>\n",
       "      <td>1.027803</td>\n",
       "      <td>1.016265</td>\n",
       "      <td>1.019974</td>\n",
       "      <td>1.000296</td>\n",
       "      <td>1.015797</td>\n",
       "      <td>1.015377</td>\n",
       "      <td>9.389647</td>\n",
       "    </tr>\n",
       "    <tr>\n",
       "      <th>min</th>\n",
       "      <td>-0.417713</td>\n",
       "      <td>-0.487722</td>\n",
       "      <td>-1.516987</td>\n",
       "      <td>-0.272599</td>\n",
       "      <td>-1.465882</td>\n",
       "      <td>-3.880249</td>\n",
       "      <td>-2.335437</td>\n",
       "      <td>-1.267069</td>\n",
       "      <td>-0.982843</td>\n",
       "      <td>-1.313990</td>\n",
       "      <td>-2.707379</td>\n",
       "      <td>-3.883072</td>\n",
       "      <td>-1.531127</td>\n",
       "      <td>5.000000</td>\n",
       "    </tr>\n",
       "    <tr>\n",
       "      <th>25%</th>\n",
       "      <td>-0.408171</td>\n",
       "      <td>-0.487722</td>\n",
       "      <td>-0.867691</td>\n",
       "      <td>-0.272599</td>\n",
       "      <td>-0.878475</td>\n",
       "      <td>-0.571480</td>\n",
       "      <td>-0.768994</td>\n",
       "      <td>-0.829872</td>\n",
       "      <td>-0.637962</td>\n",
       "      <td>-0.755697</td>\n",
       "      <td>-0.488039</td>\n",
       "      <td>0.197588</td>\n",
       "      <td>-0.828856</td>\n",
       "      <td>16.700000</td>\n",
       "    </tr>\n",
       "    <tr>\n",
       "      <th>50%</th>\n",
       "      <td>-0.383729</td>\n",
       "      <td>-0.487722</td>\n",
       "      <td>-0.180458</td>\n",
       "      <td>-0.272599</td>\n",
       "      <td>-0.144217</td>\n",
       "      <td>-0.103479</td>\n",
       "      <td>0.338718</td>\n",
       "      <td>-0.329213</td>\n",
       "      <td>-0.523001</td>\n",
       "      <td>-0.440915</td>\n",
       "      <td>0.297977</td>\n",
       "      <td>0.374827</td>\n",
       "      <td>-0.161629</td>\n",
       "      <td>21.100000</td>\n",
       "    </tr>\n",
       "    <tr>\n",
       "      <th>75%</th>\n",
       "      <td>0.055208</td>\n",
       "      <td>0.156071</td>\n",
       "      <td>1.015999</td>\n",
       "      <td>-0.272599</td>\n",
       "      <td>0.628913</td>\n",
       "      <td>0.529069</td>\n",
       "      <td>0.911243</td>\n",
       "      <td>0.674172</td>\n",
       "      <td>1.661245</td>\n",
       "      <td>1.530926</td>\n",
       "      <td>0.806576</td>\n",
       "      <td>0.429868</td>\n",
       "      <td>0.647173</td>\n",
       "      <td>25.750000</td>\n",
       "    </tr>\n",
       "    <tr>\n",
       "      <th>max</th>\n",
       "      <td>9.941735</td>\n",
       "      <td>3.804234</td>\n",
       "      <td>2.422565</td>\n",
       "      <td>3.668398</td>\n",
       "      <td>2.732346</td>\n",
       "      <td>3.555044</td>\n",
       "      <td>1.117494</td>\n",
       "      <td>3.960518</td>\n",
       "      <td>1.661245</td>\n",
       "      <td>1.798194</td>\n",
       "      <td>1.638828</td>\n",
       "      <td>0.441052</td>\n",
       "      <td>3.409999</td>\n",
       "      <td>50.000000</td>\n",
       "    </tr>\n",
       "  </tbody>\n",
       "</table>\n",
       "</div>"
      ],
      "text/plain": [
       "           # CRIM          ZN       INDUS        CHAS         NOX          RM  \\\n",
       "count  379.000000  379.000000  379.000000  379.000000  379.000000  379.000000   \n",
       "mean     0.019628    0.002455    0.036170    0.028955    0.028775    0.032202   \n",
       "std      1.067490    1.000813    1.017497    1.048995    0.999656    1.001174   \n",
       "min     -0.417713   -0.487722   -1.516987   -0.272599   -1.465882   -3.880249   \n",
       "25%     -0.408171   -0.487722   -0.867691   -0.272599   -0.878475   -0.571480   \n",
       "50%     -0.383729   -0.487722   -0.180458   -0.272599   -0.144217   -0.103479   \n",
       "75%      0.055208    0.156071    1.015999   -0.272599    0.628913    0.529069   \n",
       "max      9.941735    3.804234    2.422565    3.668398    2.732346    3.555044   \n",
       "\n",
       "              AGE         DIS         RAD         TAX     PTRATIO           B  \\\n",
       "count  379.000000  379.000000  379.000000  379.000000  379.000000  379.000000   \n",
       "mean     0.038395   -0.001288    0.043307    0.043786    0.019218   -0.015785   \n",
       "std      0.985209    1.027803    1.016265    1.019974    1.000296    1.015797   \n",
       "min     -2.335437   -1.267069   -0.982843   -1.313990   -2.707379   -3.883072   \n",
       "25%     -0.768994   -0.829872   -0.637962   -0.755697   -0.488039    0.197588   \n",
       "50%      0.338718   -0.329213   -0.523001   -0.440915    0.297977    0.374827   \n",
       "75%      0.911243    0.674172    1.661245    1.530926    0.806576    0.429868   \n",
       "max      1.117494    3.960518    1.661245    1.798194    1.638828    0.441052   \n",
       "\n",
       "            LSTAT           Y  \n",
       "count  379.000000  379.000000  \n",
       "mean     0.018418   22.609499  \n",
       "std      1.015377    9.389647  \n",
       "min     -1.531127    5.000000  \n",
       "25%     -0.828856   16.700000  \n",
       "50%     -0.161629   21.100000  \n",
       "75%      0.647173   25.750000  \n",
       "max      3.409999   50.000000  "
      ]
     },
     "execution_count": 78,
     "metadata": {},
     "output_type": "execute_result"
    }
   ],
   "source": [
    "data.describe()"
   ]
  },
  {
   "cell_type": "markdown",
   "metadata": {},
   "source": [
    "# Implementing Gradient Descent"
   ]
  },
  {
   "cell_type": "code",
   "execution_count": 79,
   "metadata": {},
   "outputs": [],
   "source": [
    "# Cost of each step\n",
    "def cost(x , y , m):\n",
    "    tot_cost = 0\n",
    "    N = x.shape[0]\n",
    "    for i in range(N):\n",
    "        tot_cost += (1/N) * ((y[i] - (m*x[i]).sum())**2)\n",
    "    return tot_cost"
   ]
  },
  {
   "cell_type": "code",
   "execution_count": 80,
   "metadata": {},
   "outputs": [],
   "source": [
    "# Iterating through entire data set\n",
    "def step_gradient(x , y , lrate , m):\n",
    "    slopes = np.zeros(x.shape[1])\n",
    "    N = x.shape[0]\n",
    "    M = x.shape[1]\n",
    "    for i in range(N):\n",
    "        for j in range(M):\n",
    "            slopes[j] += (-2/N) * (y[i] - (m*x[i]).sum())*(x[i][j])\n",
    "    \n",
    "    m = m - (lrate * slopes)\n",
    "    return m"
   ]
  },
  {
   "cell_type": "code",
   "execution_count": 81,
   "metadata": {},
   "outputs": [],
   "source": [
    "# The important Auxillary function \n",
    "def run(x_train , y_train):\n",
    "    m = np.zeros(x_train.shape[1])\n",
    "    learning_rate = 0.155\n",
    "    iterations = 100\n",
    "    cost_arr = np.zeros(iterations)\n",
    "    for i in range(iterations):\n",
    "        m = step_gradient(x_train , y_train , learning_rate , m)\n",
    "        cost_arr[i] = cost(x_train,y_train,m)\n",
    "        # print(\"Cost of \", i+1,\"th step is: \",cost_arr[i])     --> To check whether we overshoot or the opposite.\n",
    "    return (m,cost_arr)"
   ]
  },
  {
   "cell_type": "code",
   "execution_count": 82,
   "metadata": {},
   "outputs": [],
   "source": [
    "# A predicting function\n",
    "def predict(x , m):\n",
    "    y = []\n",
    "    N = x.shape[0]\n",
    "    for i in range(N):\n",
    "        ans = (x[i]*m).sum()\n",
    "        y.append(ans)\n",
    "    return np.array(y)"
   ]
  },
  {
   "cell_type": "code",
   "execution_count": 83,
   "metadata": {},
   "outputs": [],
   "source": [
    "# Modifying the data for GD model\n",
    "data['Val_C'] = 1\n",
    "data['Target'] = data.iloc[:,13]                   # Done for the value of c\n",
    "data = data.drop(data.columns[13] , axis = 1)  \n",
    "x_train = data.iloc[: , 0:14]\n",
    "y_train = data.iloc[: , 14]\n",
    "x_train = np.array(x_train)\n",
    "y_train = np.array(y_train).reshape(-1,1)\n",
    "m_train = np.zeros(x_train.shape[1])\n",
    "m_train , cost_arr = run(x_train , y_train)"
   ]
  },
  {
   "cell_type": "code",
   "execution_count": 84,
   "metadata": {},
   "outputs": [],
   "source": [
    "# Loading the test data and saving the predictions\n",
    "# https://raw.githubusercontent.com/SumoKing69/Gradient-Descent---Boston-Dataset/main/Test_dataset.csv - for uploading \n",
    "# the dataset from github.\n",
    "\n",
    "data2 = pd.read_csv(r\"C:\\Users\\96895\\Desktop\\Python AI\\Gradient Descent Project\\BostonDataSet\\Test_dataset.csv\" , delimiter = ',' , header = None)\n",
    "data2['Val_C'] = 1                              # Done for the value of c \n",
    "x_pred = np.array(data2)\n",
    "y_pred = predict(x_pred , m_train)\n",
    "\n",
    "# We can also use numpy for saving the csv file.\n",
    "pd.DataFrame(y_pred).to_csv(r\"C:\\Users\\96895\\Desktop\\Python AI\\Gradient Descent Project\\BostonDataSet\\Predictions2.csv\" , index = False)"
   ]
  },
  {
   "cell_type": "markdown",
   "metadata": {},
   "source": [
    "# Data Visualization"
   ]
  },
  {
   "cell_type": "code",
   "execution_count": 85,
   "metadata": {},
   "outputs": [
    {
     "data": {
      "image/png": "[encoded data removed]",
      "text/plain": [
       "<Figure size 432x288 with 1 Axes>"
      ]
     },
     "metadata": {
      "needs_background": "light"
     },
     "output_type": "display_data"
    }
   ],
   "source": [
    "plt.plot(np.arange(len(cost_arr)), cost_arr, color = 'red')\n",
    "plt.xlabel('Number of Iterations')\n",
    "plt.ylabel('Cost')\n",
    "plt.title('Cost Vs Number of Iterations')\n",
    "plt.grid(ls = '--')\n",
    "plt.axis([0,20, 0, 150])\n",
    "\n",
    "plt.show()"
   ]
  }
 ],
 "metadata": {
  "kernelspec": {
   "display_name": "Python 3 (ipykernel)",
   "language": "python",
   "name": "python3"
  },
  "language_info": {
   "codemirror_mode": {
    "name": "ipython",
    "version": 3
   },
   "file_extension": ".py",
   "mimetype": "text/x-python",
   "name": "python",
   "nbconvert_exporter": "python",
   "pygments_lexer": "ipython3",
   "version": "3.9.7"
  }
 },
 "nbformat": 4,
 "nbformat_minor": 2
}
